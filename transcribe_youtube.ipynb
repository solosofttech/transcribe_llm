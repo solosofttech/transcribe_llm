{
  "nbformat": 4,
  "nbformat_minor": 0,
  "metadata": {
    "colab": {
      "provenance": []
    },
    "kernelspec": {
      "name": "python3",
      "display_name": "Python 3"
    },
    "language_info": {
      "name": "python"
    }
  },
  "cells": [
    {
      "cell_type": "code",
      "execution_count": 1,
      "metadata": {
        "colab": {
          "base_uri": "https://localhost:8080/"
        },
        "id": "oeOQlqaPWq7S",
        "outputId": "87a68d4b-ff4b-4e8d-a4d2-0441bdba37a7"
      },
      "outputs": [
        {
          "output_type": "stream",
          "name": "stdout",
          "text": [
            "Mounted at /content/drive\n"
          ]
        }
      ],
      "source": [
        "from google.colab import drive\n",
        "drive.mount('/content/drive')"
      ]
    },
    {
      "cell_type": "code",
      "source": [
        "! pip install git+https://github.com/openai/whisper.git\n",
        "! pip install git+https://github.com/pytube/pytube.git\n",
        "! pip install pandas\n",
        "!pip install googletrans==4.0.0-rc1"
      ],
      "metadata": {
        "colab": {
          "base_uri": "https://localhost:8080/"
        },
        "id": "-PJR0U5eXA-7",
        "outputId": "d10685ee-db9a-4948-e8ce-0bdc610990f3"
      },
      "execution_count": 2,
      "outputs": [
        {
          "output_type": "stream",
          "name": "stdout",
          "text": [
            "Collecting git+https://github.com/openai/whisper.git\n",
            "  Cloning https://github.com/openai/whisper.git to /tmp/pip-req-build-dzcz8x0u\n",
            "  Running command git clone --filter=blob:none --quiet https://github.com/openai/whisper.git /tmp/pip-req-build-dzcz8x0u\n",
            "  Resolved https://github.com/openai/whisper.git to commit ba3f3cd54b0e5b8ce1ab3de13e32122d0d5f98ab\n",
            "  Installing build dependencies ... \u001b[?25l\u001b[?25hdone\n",
            "  Getting requirements to build wheel ... \u001b[?25l\u001b[?25hdone\n",
            "  Preparing metadata (pyproject.toml) ... \u001b[?25l\u001b[?25hdone\n",
            "Requirement already satisfied: numba in /usr/local/lib/python3.10/dist-packages (from openai-whisper==20231117) (0.60.0)\n",
            "Requirement already satisfied: numpy in /usr/local/lib/python3.10/dist-packages (from openai-whisper==20231117) (1.26.4)\n",
            "Requirement already satisfied: torch in /usr/local/lib/python3.10/dist-packages (from openai-whisper==20231117) (2.4.0+cu121)\n",
            "Requirement already satisfied: tqdm in /usr/local/lib/python3.10/dist-packages (from openai-whisper==20231117) (4.66.5)\n",
            "Requirement already satisfied: more-itertools in /usr/local/lib/python3.10/dist-packages (from openai-whisper==20231117) (10.3.0)\n",
            "Collecting tiktoken (from openai-whisper==20231117)\n",
            "  Downloading tiktoken-0.7.0-cp310-cp310-manylinux_2_17_x86_64.manylinux2014_x86_64.whl.metadata (6.6 kB)\n",
            "Collecting triton<3,>=2.0.0 (from openai-whisper==20231117)\n",
            "  Downloading triton-2.3.1-cp310-cp310-manylinux_2_17_x86_64.manylinux2014_x86_64.whl.metadata (1.4 kB)\n",
            "Requirement already satisfied: filelock in /usr/local/lib/python3.10/dist-packages (from triton<3,>=2.0.0->openai-whisper==20231117) (3.15.4)\n",
            "Requirement already satisfied: llvmlite<0.44,>=0.43.0dev0 in /usr/local/lib/python3.10/dist-packages (from numba->openai-whisper==20231117) (0.43.0)\n",
            "Requirement already satisfied: regex>=2022.1.18 in /usr/local/lib/python3.10/dist-packages (from tiktoken->openai-whisper==20231117) (2024.5.15)\n",
            "Requirement already satisfied: requests>=2.26.0 in /usr/local/lib/python3.10/dist-packages (from tiktoken->openai-whisper==20231117) (2.32.3)\n",
            "Requirement already satisfied: typing-extensions>=4.8.0 in /usr/local/lib/python3.10/dist-packages (from torch->openai-whisper==20231117) (4.12.2)\n",
            "Requirement already satisfied: sympy in /usr/local/lib/python3.10/dist-packages (from torch->openai-whisper==20231117) (1.13.2)\n",
            "Requirement already satisfied: networkx in /usr/local/lib/python3.10/dist-packages (from torch->openai-whisper==20231117) (3.3)\n",
            "Requirement already satisfied: jinja2 in /usr/local/lib/python3.10/dist-packages (from torch->openai-whisper==20231117) (3.1.4)\n",
            "Requirement already satisfied: fsspec in /usr/local/lib/python3.10/dist-packages (from torch->openai-whisper==20231117) (2024.6.1)\n",
            "Requirement already satisfied: charset-normalizer<4,>=2 in /usr/local/lib/python3.10/dist-packages (from requests>=2.26.0->tiktoken->openai-whisper==20231117) (3.3.2)\n",
            "Requirement already satisfied: idna<4,>=2.5 in /usr/local/lib/python3.10/dist-packages (from requests>=2.26.0->tiktoken->openai-whisper==20231117) (3.8)\n",
            "Requirement already satisfied: urllib3<3,>=1.21.1 in /usr/local/lib/python3.10/dist-packages (from requests>=2.26.0->tiktoken->openai-whisper==20231117) (2.0.7)\n",
            "Requirement already satisfied: certifi>=2017.4.17 in /usr/local/lib/python3.10/dist-packages (from requests>=2.26.0->tiktoken->openai-whisper==20231117) (2024.8.30)\n",
            "Requirement already satisfied: MarkupSafe>=2.0 in /usr/local/lib/python3.10/dist-packages (from jinja2->torch->openai-whisper==20231117) (2.1.5)\n",
            "Requirement already satisfied: mpmath<1.4,>=1.1.0 in /usr/local/lib/python3.10/dist-packages (from sympy->torch->openai-whisper==20231117) (1.3.0)\n",
            "Downloading triton-2.3.1-cp310-cp310-manylinux_2_17_x86_64.manylinux2014_x86_64.whl (168.1 MB)\n",
            "\u001b[2K   \u001b[90m━━━━━━━━━━━━━━━━━━━━━━━━━━━━━━━━━━━━━━━━\u001b[0m \u001b[32m168.1/168.1 MB\u001b[0m \u001b[31m4.3 MB/s\u001b[0m eta \u001b[36m0:00:00\u001b[0m\n",
            "\u001b[?25hDownloading tiktoken-0.7.0-cp310-cp310-manylinux_2_17_x86_64.manylinux2014_x86_64.whl (1.1 MB)\n",
            "\u001b[2K   \u001b[90m━━━━━━━━━━━━━━━━━━━━━━━━━━━━━━━━━━━━━━━━\u001b[0m \u001b[32m1.1/1.1 MB\u001b[0m \u001b[31m38.7 MB/s\u001b[0m eta \u001b[36m0:00:00\u001b[0m\n",
            "\u001b[?25hBuilding wheels for collected packages: openai-whisper\n",
            "  Building wheel for openai-whisper (pyproject.toml) ... \u001b[?25l\u001b[?25hdone\n",
            "  Created wheel for openai-whisper: filename=openai_whisper-20231117-py3-none-any.whl size=802824 sha256=ae00f6ad397950fe7368c8b76bf13c9adc6f848da9cbeba54172f34cebf44dfa\n",
            "  Stored in directory: /tmp/pip-ephem-wheel-cache-hb1kt8xt/wheels/8b/6c/d0/622666868c179f156cf595c8b6f06f88bc5d80c4b31dccaa03\n",
            "Successfully built openai-whisper\n",
            "Installing collected packages: triton, tiktoken, openai-whisper\n",
            "Successfully installed openai-whisper-20231117 tiktoken-0.7.0 triton-2.3.1\n",
            "Collecting git+https://github.com/pytube/pytube.git\n",
            "  Cloning https://github.com/pytube/pytube.git to /tmp/pip-req-build-igoz9i5s\n",
            "  Running command git clone --filter=blob:none --quiet https://github.com/pytube/pytube.git /tmp/pip-req-build-igoz9i5s\n",
            "  Resolved https://github.com/pytube/pytube.git to commit a32fff39058a6f7e5e59ecd06a7467b71197ce35\n",
            "  Preparing metadata (setup.py) ... \u001b[?25l\u001b[?25hdone\n",
            "Building wheels for collected packages: pytube\n",
            "  Building wheel for pytube (setup.py) ... \u001b[?25l\u001b[?25hdone\n",
            "  Created wheel for pytube: filename=pytube-15.0.0-py3-none-any.whl size=57579 sha256=2a22b783e7d7a09c6b71ddd05e613c4e8605a99ed6c3fd11d9cfbc073620957b\n",
            "  Stored in directory: /tmp/pip-ephem-wheel-cache-tgm1h5xr/wheels/5a/12/87/c8ebc234373bbbfaa9bd27af202f15d1016cfcac72952cc0ec\n",
            "Successfully built pytube\n",
            "Installing collected packages: pytube\n",
            "Successfully installed pytube-15.0.0\n",
            "Requirement already satisfied: pandas in /usr/local/lib/python3.10/dist-packages (2.1.4)\n",
            "Requirement already satisfied: numpy<2,>=1.22.4 in /usr/local/lib/python3.10/dist-packages (from pandas) (1.26.4)\n",
            "Requirement already satisfied: python-dateutil>=2.8.2 in /usr/local/lib/python3.10/dist-packages (from pandas) (2.8.2)\n",
            "Requirement already satisfied: pytz>=2020.1 in /usr/local/lib/python3.10/dist-packages (from pandas) (2024.1)\n",
            "Requirement already satisfied: tzdata>=2022.1 in /usr/local/lib/python3.10/dist-packages (from pandas) (2024.1)\n",
            "Requirement already satisfied: six>=1.5 in /usr/local/lib/python3.10/dist-packages (from python-dateutil>=2.8.2->pandas) (1.16.0)\n",
            "Collecting googletrans==4.0.0-rc1\n",
            "  Downloading googletrans-4.0.0rc1.tar.gz (20 kB)\n",
            "  Preparing metadata (setup.py) ... \u001b[?25l\u001b[?25hdone\n",
            "Collecting httpx==0.13.3 (from googletrans==4.0.0-rc1)\n",
            "  Downloading httpx-0.13.3-py3-none-any.whl.metadata (25 kB)\n",
            "Requirement already satisfied: certifi in /usr/local/lib/python3.10/dist-packages (from httpx==0.13.3->googletrans==4.0.0-rc1) (2024.8.30)\n",
            "Collecting hstspreload (from httpx==0.13.3->googletrans==4.0.0-rc1)\n",
            "  Downloading hstspreload-2024.9.1-py3-none-any.whl.metadata (2.1 kB)\n",
            "Requirement already satisfied: sniffio in /usr/local/lib/python3.10/dist-packages (from httpx==0.13.3->googletrans==4.0.0-rc1) (1.3.1)\n",
            "Collecting chardet==3.* (from httpx==0.13.3->googletrans==4.0.0-rc1)\n",
            "  Downloading chardet-3.0.4-py2.py3-none-any.whl.metadata (3.2 kB)\n",
            "Collecting idna==2.* (from httpx==0.13.3->googletrans==4.0.0-rc1)\n",
            "  Downloading idna-2.10-py2.py3-none-any.whl.metadata (9.1 kB)\n",
            "Collecting rfc3986<2,>=1.3 (from httpx==0.13.3->googletrans==4.0.0-rc1)\n",
            "  Downloading rfc3986-1.5.0-py2.py3-none-any.whl.metadata (6.5 kB)\n",
            "Collecting httpcore==0.9.* (from httpx==0.13.3->googletrans==4.0.0-rc1)\n",
            "  Downloading httpcore-0.9.1-py3-none-any.whl.metadata (4.6 kB)\n",
            "Collecting h11<0.10,>=0.8 (from httpcore==0.9.*->httpx==0.13.3->googletrans==4.0.0-rc1)\n",
            "  Downloading h11-0.9.0-py2.py3-none-any.whl.metadata (8.1 kB)\n",
            "Collecting h2==3.* (from httpcore==0.9.*->httpx==0.13.3->googletrans==4.0.0-rc1)\n",
            "  Downloading h2-3.2.0-py2.py3-none-any.whl.metadata (32 kB)\n",
            "Collecting hyperframe<6,>=5.2.0 (from h2==3.*->httpcore==0.9.*->httpx==0.13.3->googletrans==4.0.0-rc1)\n",
            "  Downloading hyperframe-5.2.0-py2.py3-none-any.whl.metadata (7.2 kB)\n",
            "Collecting hpack<4,>=3.0 (from h2==3.*->httpcore==0.9.*->httpx==0.13.3->googletrans==4.0.0-rc1)\n",
            "  Downloading hpack-3.0.0-py2.py3-none-any.whl.metadata (7.0 kB)\n",
            "Downloading httpx-0.13.3-py3-none-any.whl (55 kB)\n",
            "\u001b[2K   \u001b[90m━━━━━━━━━━━━━━━━━━━━━━━━━━━━━━━━━━━━━━━━\u001b[0m \u001b[32m55.1/55.1 kB\u001b[0m \u001b[31m3.9 MB/s\u001b[0m eta \u001b[36m0:00:00\u001b[0m\n",
            "\u001b[?25hDownloading chardet-3.0.4-py2.py3-none-any.whl (133 kB)\n",
            "\u001b[2K   \u001b[90m━━━━━━━━━━━━━━━━━━━━━━━━━━━━━━━━━━━━━━━━\u001b[0m \u001b[32m133.4/133.4 kB\u001b[0m \u001b[31m6.5 MB/s\u001b[0m eta \u001b[36m0:00:00\u001b[0m\n",
            "\u001b[?25hDownloading httpcore-0.9.1-py3-none-any.whl (42 kB)\n",
            "\u001b[2K   \u001b[90m━━━━━━━━━━━━━━━━━━━━━━━━━━━━━━━━━━━━━━━━\u001b[0m \u001b[32m42.6/42.6 kB\u001b[0m \u001b[31m3.0 MB/s\u001b[0m eta \u001b[36m0:00:00\u001b[0m\n",
            "\u001b[?25hDownloading idna-2.10-py2.py3-none-any.whl (58 kB)\n",
            "\u001b[2K   \u001b[90m━━━━━━━━━━━━━━━━━━━━━━━━━━━━━━━━━━━━━━━━\u001b[0m \u001b[32m58.8/58.8 kB\u001b[0m \u001b[31m4.6 MB/s\u001b[0m eta \u001b[36m0:00:00\u001b[0m\n",
            "\u001b[?25hDownloading h2-3.2.0-py2.py3-none-any.whl (65 kB)\n",
            "\u001b[2K   \u001b[90m━━━━━━━━━━━━━━━━━━━━━━━━━━━━━━━━━━━━━━━━\u001b[0m \u001b[32m65.0/65.0 kB\u001b[0m \u001b[31m5.1 MB/s\u001b[0m eta \u001b[36m0:00:00\u001b[0m\n",
            "\u001b[?25hDownloading rfc3986-1.5.0-py2.py3-none-any.whl (31 kB)\n",
            "Downloading hstspreload-2024.9.1-py3-none-any.whl (1.2 MB)\n",
            "\u001b[2K   \u001b[90m━━━━━━━━━━━━━━━━━━━━━━━━━━━━━━━━━━━━━━━━\u001b[0m \u001b[32m1.2/1.2 MB\u001b[0m \u001b[31m30.1 MB/s\u001b[0m eta \u001b[36m0:00:00\u001b[0m\n",
            "\u001b[?25hDownloading h11-0.9.0-py2.py3-none-any.whl (53 kB)\n",
            "\u001b[2K   \u001b[90m━━━━━━━━━━━━━━━━━━━━━━━━━━━━━━━━━━━━━━━━\u001b[0m \u001b[32m53.6/53.6 kB\u001b[0m \u001b[31m4.1 MB/s\u001b[0m eta \u001b[36m0:00:00\u001b[0m\n",
            "\u001b[?25hDownloading hpack-3.0.0-py2.py3-none-any.whl (38 kB)\n",
            "Downloading hyperframe-5.2.0-py2.py3-none-any.whl (12 kB)\n",
            "Building wheels for collected packages: googletrans\n",
            "  Building wheel for googletrans (setup.py) ... \u001b[?25l\u001b[?25hdone\n",
            "  Created wheel for googletrans: filename=googletrans-4.0.0rc1-py3-none-any.whl size=17397 sha256=d679509851e64aabb7ff02f3a1d8bc9ba51cea7c84c7582cab70e14ec952299c\n",
            "  Stored in directory: /root/.cache/pip/wheels/c0/59/9f/7372f0cf70160fe61b528532e1a7c8498c4becd6bcffb022de\n",
            "Successfully built googletrans\n",
            "Installing collected packages: rfc3986, hyperframe, hpack, h11, chardet, idna, hstspreload, h2, httpcore, httpx, googletrans\n",
            "  Attempting uninstall: chardet\n",
            "    Found existing installation: chardet 5.2.0\n",
            "    Uninstalling chardet-5.2.0:\n",
            "      Successfully uninstalled chardet-5.2.0\n",
            "  Attempting uninstall: idna\n",
            "    Found existing installation: idna 3.8\n",
            "    Uninstalling idna-3.8:\n",
            "      Successfully uninstalled idna-3.8\n",
            "Successfully installed chardet-3.0.4 googletrans-4.0.0rc1 h11-0.9.0 h2-3.2.0 hpack-3.0.0 hstspreload-2024.9.1 httpcore-0.9.1 httpx-0.13.3 hyperframe-5.2.0 idna-2.10 rfc3986-1.5.0\n"
          ]
        }
      ]
    },
    {
      "cell_type": "code",
      "source": [
        "import os\n",
        "import whisper\n",
        "from googletrans import Translator\n",
        "import csv\n",
        "import datetime\n",
        "\n",
        "# Initialize Whisper and Translator models\n",
        "model = whisper.load_model(\"large\")\n",
        "translator = Translator()\n",
        "\n",
        "# Directory path where audio files are stored\n",
        "audio_dir = \"/content/drive/MyDrive/genai data/\"\n",
        "\n",
        "# Function to process audio files, transcribe, and translate if necessary\n",
        "def process_audio_files(audio_dir):\n",
        "    transcription_data = []\n",
        "\n",
        "    # Iterate over audio files in the directory\n",
        "    for file_name in os.listdir(audio_dir):\n",
        "        if file_name.endswith(\".mp3\") or file_name.endswith(\".mp4\"):\n",
        "            file_path = os.path.join(audio_dir, file_name)\n",
        "\n",
        "            # Transcribe the audio\n",
        "            transcription = model.transcribe(file_path)\n",
        "\n",
        "            if (transcription[\"text\"]) != \"\":\n",
        "\n",
        "              # Check if the transcription is in Urdu and translate it\n",
        "              if detect_language(transcription[\"text\"]) == \"ur\":\n",
        "                  translated_text = translator.translate(transcription[\"text\"], src='ur', dest='en').text\n",
        "\n",
        "              elif detect_language(transcription[\"text\"]) == \"hi\":\n",
        "                  translated_text = translator.translate(transcription[\"text\"], src='hi', dest='en').text\n",
        "\n",
        "              else:\n",
        "                  translated_text = transcription[\"text\"]\n",
        "\n",
        "              print(translated_text)\n",
        "\n",
        "              # Chunk transcription and collect metadata\n",
        "              chunks = chunk_transcription(translated_text)\n",
        "              metadata = index_metadata(file_name, transcription, chunks)\n",
        "\n",
        "              transcription_data.append({\n",
        "                  \"audio_file\": file_name,\n",
        "                  \"transcription\": transcription[\"text\"],\n",
        "                  \"translated_text\": translated_text,\n",
        "                  \"chunks\": chunks,\n",
        "                  \"metadata\": metadata\n",
        "              })\n",
        "\n",
        "    return transcription_data\n",
        "\n",
        "# Function to detect language (mocked for simplicity)\n",
        "def detect_language(text):\n",
        "  try:\n",
        "    # Detect the language of the text\n",
        "    detection = translator.detect(text)\n",
        "\n",
        "    # Check if the detected language is Urdu (code: 'ur')\n",
        "    if detection is not None & detection.lang == 'ur':\n",
        "        return \"ur\"\n",
        "    elif detection is not None & detection.lang == 'hi':\n",
        "        return \"hi\"\n",
        "    else:\n",
        "        return \"en\"\n",
        "  except:\n",
        "    return \"\"\n",
        "\n",
        "# Function to chunk transcription into manageable parts\n",
        "def chunk_transcription(text, chunk_size=100):\n",
        "    words = text.split()\n",
        "    return [\" \".join(words[i:i+chunk_size]) for i in range(0, len(words), chunk_size)]\n",
        "\n",
        "# Function to index transcription with metadata (timestamps and file link)\n",
        "def index_metadata(file_name, transcription, chunks):\n",
        "    indexed_data = []\n",
        "\n",
        "    for i, chunk in enumerate(chunks):\n",
        "        start_time = i * (len(transcription[\"segments\"]) // len(chunks))\n",
        "        end_time = (i + 1) * (len(transcription[\"segments\"]) // len(chunks))\n",
        "\n",
        "        indexed_data.append({\n",
        "            \"chunk\": chunk,\n",
        "            \"audio_file\": file_name,\n",
        "            \"start_time\": start_time,\n",
        "            \"end_time\": end_time\n",
        "        })\n",
        "\n",
        "    return indexed_data\n",
        "\n",
        "# Function to save the transcription data to CSV\n",
        "def save_to_csv(transcription_data, csv_file_name=\"transcriptions.csv\"):\n",
        "    # Define the CSV file headers\n",
        "    headers = [\"audio_file\", \"original_transcription\", \"translated_transcription\", \"chunk\", \"start_time\", \"end_time\"]\n",
        "\n",
        "    # Open CSV file and write data\n",
        "    with open(csv_file_name, mode='w', newline='', encoding='utf-8') as file:\n",
        "        writer = csv.DictWriter(file, fieldnames=headers)\n",
        "        writer.writeheader()\n",
        "\n",
        "        # Write each chunk of data to CSV\n",
        "        for item in transcription_data:\n",
        "            for i, chunk in enumerate(item[\"chunks\"]):\n",
        "                # Write each chunk along with its metadata to CSV\n",
        "                writer.writerow({\n",
        "                    \"audio_file\": item[\"audio_file\"],\n",
        "                    \"original_transcription\": item[\"transcription\"],\n",
        "                    \"translated_transcription\": item[\"translated_text\"],\n",
        "                    \"chunk\": chunk,\n",
        "                    \"start_time\": item[\"metadata\"][i][\"start_time\"],\n",
        "                    \"end_time\": item[\"metadata\"][i][\"end_time\"]\n",
        "                })\n",
        "\n",
        "# Example usage\n",
        "data = process_audio_files(audio_dir)\n",
        "print (data)\n",
        "\n",
        "csv_filename = audio_dir + \"transcriptions\" + datetime.datetime.now().strftime(\"%Y%m%d_%H%M%S\")+\".csv\"\n",
        "\n",
        "# Save the data to a CSV file\n",
        "save_to_csv(data, csv_file_name= csv_filename)"
      ],
      "metadata": {
        "colab": {
          "base_uri": "https://localhost:8080/"
        },
        "id": "7wk4-OkVXTpb",
        "outputId": "45be1312-207d-4394-c955-fd2821d49990"
      },
      "execution_count": 3,
      "outputs": [
        {
          "output_type": "stream",
          "name": "stderr",
          "text": [
            "100%|█████████████████████████████████████| 2.88G/2.88G [00:34<00:00, 88.4MiB/s]\n",
            "/usr/local/lib/python3.10/dist-packages/whisper/__init__.py:146: FutureWarning: You are using `torch.load` with `weights_only=False` (the current default value), which uses the default pickle module implicitly. It is possible to construct malicious pickle data which will execute arbitrary code during unpickling (See https://github.com/pytorch/pytorch/blob/main/SECURITY.md#untrusted-models for more details). In a future release, the default value for `weights_only` will be flipped to `True`. This limits the functions that could be executed during unpickling. Arbitrary objects will no longer be allowed to be loaded via this mode unless they are explicitly allowlisted by the user via `torch.serialization.add_safe_globals`. We recommend you start setting `weights_only=True` for any use case where you don't have full control of the loaded file. Please open an issue on GitHub for any issues related to this experimental feature.\n",
            "  checkpoint = torch.load(fp, map_location=device)\n",
            "/usr/local/lib/python3.10/dist-packages/whisper/transcribe.py:126: UserWarning: FP16 is not supported on CPU; using FP32 instead\n",
            "  warnings.warn(\"FP16 is not supported on CPU; using FP32 instead\")\n"
          ]
        },
        {
          "output_type": "stream",
          "name": "stdout",
          "text": [
            " स्मार्ट एलेडी टीवी How to select input sources by remote control Remote control में मौझूद source बटन को क्लिक करें Source menu screen पर appear हो जाएगा मौझूद options के features को जानें Home इस option के जरिये आप YouTube, Netflix, Prime Video तमाम Android apps और Media Player for USB access को use कर सकते हैं ATV इस feature के जरिये आप लगाएगाई cable connection के थूँ analog channels देख सकते हैं DVB-T, T2 जिसमें terrestrial channels को देख सकते हैं ये feature पाकिस्तान में मौझूद नहीं है DVBC के जरिये आप लगाएगाई cable connection के थूँ digital channels देख सकते हैं smart LED TV में audio और video दोनों को connect कर सकते हैं इसमें मौझूद 3 HDMI connection options भी हैं जिसके जरिये आप अपने computer, laptop, game, DVD player जैसे gadget से भी अपने smart LED TV को connect कर सकते हैं अपनी जरूरत के मताबे कोई भी option select करें और OK का button दबा दें अपनी जरूरत के मताबे को connect कर दें\n"
          ]
        },
        {
          "output_type": "stream",
          "name": "stderr",
          "text": [
            "/usr/local/lib/python3.10/dist-packages/whisper/transcribe.py:126: UserWarning: FP16 is not supported on CPU; using FP32 instead\n",
            "  warnings.warn(\"FP16 is not supported on CPU; using FP32 instead\")\n"
          ]
        },
        {
          "output_type": "stream",
          "name": "stdout",
          "text": [
            " स्मार्ट एलेडी टीवी How to use smart LED TV menu function रिमोर्ट कंट्रोल में मौझूद menu के बटन को प्रेस करें पिच्चर या साउंड सेटिंग के ओप्शन को एजजस करने के लिए more के ओप्शन को स्लेक्ट करें रिमोर्ट कंट्रोल पर दिये गए up and down एरोस के जरिए पिच्चर सेटिंग को स्लेक्ट करें और OK का बटन दबा करें पिच्चर सेटिंग में मौझूद brightness, contrast, saturation, sharpness, gamma को अपनी जरूरत के मताबग एजजस करें साउंड ओप्शन को स्लेक्ट करें और साउं Protect को अपनी जरूरत के मताबग एजजस करें चैनल को ट्यून करने के लिए टीवी को ऑप्शन सलेक्ट करें सेटअप ऑप्शन के जरिए अपनी जरूरत के मताबग सेटिंग को एजजस करें सेटिंग को ऑप्शन को सलेक्ट करके LED TV सेटिंग को एजजस करें\n"
          ]
        },
        {
          "output_type": "stream",
          "name": "stderr",
          "text": [
            "/usr/local/lib/python3.10/dist-packages/whisper/transcribe.py:126: UserWarning: FP16 is not supported on CPU; using FP32 instead\n",
            "  warnings.warn(\"FP16 is not supported on CPU; using FP32 instead\")\n"
          ]
        },
        {
          "output_type": "stream",
          "name": "stdout",
          "text": [
            " इसमार्ट एलेडी टीवी फर्स्ट टाइम सेट अप इंस्टॉलेशन डॉलिन्स इसमार्ट एलेडी टीवी को स्टार्ट करने के लिए सबसे पहले वायर को प्लग इन करें एलेडी आटोमेटिकली स्टैंबाई मोड पर सैट हो जाएगा रिमोर्ट कंट्रोल में नए बैटरीज लगाएं। एलेडी टीवी को ऑन करने के लिए रिमोर्ट पर मौजूद पावर बटन को प्रेस करें। एलेडी टीवी डिस्प्लेय को ब्लूटूथ से कनेक्ट करने के लिए background पर दिएगाएं Google Assistant बटन को दबाइए진। फिर Home बटन और Left बटन को एक साथ प्रेस करके, माइक या फिर Google Assistant बटन को प्रेस करें। इस थरां आपका एलेडी टीवी ब्लूटूथ से क्पेयर हो जाएगा। स्क्रीन पर मौजूद language options में English पर जाएगे। और OK बटन को प्रेस करके option को स्लेक्ट करें। एलेडी को Android फोन से कनेक्ट करने के लिए स्क्रीन में मौजूद continue बटन को प्रेस करें। या फिर Android फोन से न कनेक्ट करने के सुरक्त में स्किप दबाइए। एलेडी टीवी को वाई-फाई से कनेक्ट करने के लिए अपने वाई-फाई नीट को स्लेक्ट करें। पासवर्ड डालें और OK के बटन को प्रेस करें। अपने गूगल अकाउंट से साइनइन करने के लिए एमेल ऑफ पासवर्ड एंटर करके OK का बटन दबाइये। आपका एलेडी आपके Google अकाउंट से कनेक्ट होhoo गूगल अकाउंट से कनेक्ट न करने की सूरक्त में स्किप दबाइये। गूगल अकाउंट से कनेक्ट ना करने की सूरत में स्किप दबाईए गूगल टर्म्स और सर्वेज को एकसेप्ट करें स्मार्ट टीवी पावर्ड बाई एंड्रोइड गेट एप्स फ्रॉम गूगल प्ले कास्च और एलेडी टीवी के अप्शंस को एक्सेप्ट करने के लिए राइट का बटन प्रेस Interview एंड्रोइड लाइसन्स एक्रिमेंट को बॉक्स पर चेक लगा कर सेलेक्ट करें औentric डिशिर्म पर प्रशिक्षित से गांव परीवरून रिफिकेशन राजित राजित प्रोग्राम टाइप में All को सेलेक्ट करें चैनल स्कैन या स्कैन मोट फुल में से अपनी जुरूरत के मताबबे किसी एक अप्शन को सेलेक्ट करें LED स्कैनिंग स्टार्ट हो जाएगी LED स्कैनिंग ख़त्म होने के बाद LED डिस्प्ले में Home Screen पेज खुल जाएगा आपका स्मार्ट LED डिवी इंस्टॉल हो गया था\n"
          ]
        },
        {
          "output_type": "stream",
          "name": "stderr",
          "text": [
            "/usr/local/lib/python3.10/dist-packages/whisper/transcribe.py:126: UserWarning: FP16 is not supported on CPU; using FP32 instead\n",
            "  warnings.warn(\"FP16 is not supported on CPU; using FP32 instead\")\n"
          ]
        },
        {
          "output_type": "stream",
          "name": "stdout",
          "text": [
            " समार्ट एलेडी टीवी सबसे पहले रिमोर्ट कंट्रोल पर दिये गए होम बटन पर क्लिक करें स्क्रीन में मौझूस सेटिंग्स आइकन को रिमोर्ट कंट्रोल के अप, डाउन और राइट, लेफ्ट बटन के जरीए सेलेक्ट करें और ओके का बटन प्रेस करें डिवाइस प्ektर पर क्लिक करें रिसेट के ऑप्शन क Fighter रिसाइट पर क्लिक करने के बाद इस एवरीथिंग ऑप्शन को स्लेक्ट करें समझते है according to Priyad\n"
          ]
        },
        {
          "output_type": "stream",
          "name": "stderr",
          "text": [
            "/usr/local/lib/python3.10/dist-packages/whisper/transcribe.py:126: UserWarning: FP16 is not supported on CPU; using FP32 instead\n",
            "  warnings.warn(\"FP16 is not supported on CPU; using FP32 instead\")\n"
          ]
        },
        {
          "output_type": "stream",
          "name": "stdout",
          "text": [
            " स्मार्ट एलेडी टीवी How to operate LED TV without remote control LED TV के पीछे मौझूद कंट्रोल बटन के जरिये आप अपने LED TV को कंट्रोल कर सकते हैं अगर TV स्टेंड बाय मोट पर है तो TV को आउन करने के लिए कंट्रोल बटन को दबाईए LED TV स्विच्च आउन होने की सूरत में कंट्रोल बटन को हलका प्रेस करके सॉर्स लिस को ओपन करें सॉर्स लिस में अपनी जरूरत के मताबग ओप्शन को सेलेक करने के लिए कंट्रोल बटन कोLeft या Right पुष्च करके कंट्रोल बटन को बीच में हलका प्रेस करें Source list कोaccix Roberts के लिए, Control बटन को देर तक टैक करें TV Volume को बढ़ाने या कम करना चाहिए Control बटन को Right या Left की तरफ पुष्ड करें चैनल को चेंज करने के लिए, ऊंपर यदि नीचे की तरफ Control बटन को पुष्ठ करें\n"
          ]
        },
        {
          "output_type": "stream",
          "name": "stderr",
          "text": [
            "/usr/local/lib/python3.10/dist-packages/whisper/transcribe.py:126: UserWarning: FP16 is not supported on CPU; using FP32 instead\n",
            "  warnings.warn(\"FP16 is not supported on CPU; using FP32 instead\")\n"
          ]
        },
        {
          "output_type": "stream",
          "name": "stdout",
          "text": [
            " स्मार्ट एलेडी टीवी पिच्चर स्क्रीन कटिंग फ्रॉम साइट कॉर्नर्स अगर आपकी स्क्रीन कॉर्नर्स से कट रही हैं, तो रिमोर्ट कंट्रोल में ओके के बटन को प्रेस करें कुइक बटन मेन्यू, डिस्प्ले स्क्रीन में आ जाए stab स्क्रीन मोड ऑप्शन को सिलेक्ट करें aspect ratio को auto से हटा कर 16-9 ऑप्शन पे सेट करें अब आपकी स्क्रीन फुल स्क्रीन आ रही होगी\n",
            "[{'audio_file': 'Dawlance _ How to Select Input Sources By Remote Control.mp3', 'transcription': ' स्मार्ट एलेडी टीवी How to select input sources by remote control Remote control में मौझूद source बटन को क्लिक करें Source menu screen पर appear हो जाएगा मौझूद options के features को जानें Home इस option के जरिये आप YouTube, Netflix, Prime Video तमाम Android apps और Media Player for USB access को use कर सकते हैं ATV इस feature के जरिये आप लगाएगाई cable connection के थूँ analog channels देख सकते हैं DVB-T, T2 जिसमें terrestrial channels को देख सकते हैं ये feature पाकिस्तान में मौझूद नहीं है DVBC के जरिये आप लगाएगाई cable connection के थूँ digital channels देख सकते हैं smart LED TV में audio और video दोनों को connect कर सकते हैं इसमें मौझूद 3 HDMI connection options भी हैं जिसके जरिये आप अपने computer, laptop, game, DVD player जैसे gadget से भी अपने smart LED TV को connect कर सकते हैं अपनी जरूरत के मताबे कोई भी option select करें और OK का button दबा दें अपनी जरूरत के मताबे को connect कर दें', 'translated_text': ' स्मार्ट एलेडी टीवी How to select input sources by remote control Remote control में मौझूद source बटन को क्लिक करें Source menu screen पर appear हो जाएगा मौझूद options के features को जानें Home इस option के जरिये आप YouTube, Netflix, Prime Video तमाम Android apps और Media Player for USB access को use कर सकते हैं ATV इस feature के जरिये आप लगाएगाई cable connection के थूँ analog channels देख सकते हैं DVB-T, T2 जिसमें terrestrial channels को देख सकते हैं ये feature पाकिस्तान में मौझूद नहीं है DVBC के जरिये आप लगाएगाई cable connection के थूँ digital channels देख सकते हैं smart LED TV में audio और video दोनों को connect कर सकते हैं इसमें मौझूद 3 HDMI connection options भी हैं जिसके जरिये आप अपने computer, laptop, game, DVD player जैसे gadget से भी अपने smart LED TV को connect कर सकते हैं अपनी जरूरत के मताबे कोई भी option select करें और OK का button दबा दें अपनी जरूरत के मताबे को connect कर दें', 'chunks': ['स्मार्ट एलेडी टीवी How to select input sources by remote control Remote control में मौझूद source बटन को क्लिक करें Source menu screen पर appear हो जाएगा मौझूद options के features को जानें Home इस option के जरिये आप YouTube, Netflix, Prime Video तमाम Android apps और Media Player for USB access को use कर सकते हैं ATV इस feature के जरिये आप लगाएगाई cable connection के थूँ analog channels देख सकते हैं DVB-T, T2 जिसमें terrestrial channels को देख सकते हैं ये feature पाकिस्तान में मौझूद नहीं है DVBC के जरिये आप लगाएगाई cable connection के थूँ digital channels', 'देख सकते हैं smart LED TV में audio और video दोनों को connect कर सकते हैं इसमें मौझूद 3 HDMI connection options भी हैं जिसके जरिये आप अपने computer, laptop, game, DVD player जैसे gadget से भी अपने smart LED TV को connect कर सकते हैं अपनी जरूरत के मताबे कोई भी option select करें और OK का button दबा दें अपनी जरूरत के मताबे को connect कर दें'], 'metadata': [{'chunk': 'स्मार्ट एलेडी टीवी How to select input sources by remote control Remote control में मौझूद source बटन को क्लिक करें Source menu screen पर appear हो जाएगा मौझूद options के features को जानें Home इस option के जरिये आप YouTube, Netflix, Prime Video तमाम Android apps और Media Player for USB access को use कर सकते हैं ATV इस feature के जरिये आप लगाएगाई cable connection के थूँ analog channels देख सकते हैं DVB-T, T2 जिसमें terrestrial channels को देख सकते हैं ये feature पाकिस्तान में मौझूद नहीं है DVBC के जरिये आप लगाएगाई cable connection के थूँ digital channels', 'audio_file': 'Dawlance _ How to Select Input Sources By Remote Control.mp3', 'start_time': 0, 'end_time': 10}, {'chunk': 'देख सकते हैं smart LED TV में audio और video दोनों को connect कर सकते हैं इसमें मौझूद 3 HDMI connection options भी हैं जिसके जरिये आप अपने computer, laptop, game, DVD player जैसे gadget से भी अपने smart LED TV को connect कर सकते हैं अपनी जरूरत के मताबे कोई भी option select करें और OK का button दबा दें अपनी जरूरत के मताबे को connect कर दें', 'audio_file': 'Dawlance _ How to Select Input Sources By Remote Control.mp3', 'start_time': 10, 'end_time': 20}]}, {'audio_file': 'Dawlance _ How to use SMART LED TV Menu Function.mp3', 'transcription': ' स्मार्ट एलेडी टीवी How to use smart LED TV menu function रिमोर्ट कंट्रोल में मौझूद menu के बटन को प्रेस करें पिच्चर या साउंड सेटिंग के ओप्शन को एजजस करने के लिए more के ओप्शन को स्लेक्ट करें रिमोर्ट कंट्रोल पर दिये गए up and down एरोस के जरिए पिच्चर सेटिंग को स्लेक्ट करें और OK का बटन दबा करें पिच्चर सेटिंग में मौझूद brightness, contrast, saturation, sharpness, gamma को अपनी जरूरत के मताबग एजजस करें साउंड ओप्शन को स्लेक्ट करें और साउं Protect को अपनी जरूरत के मताबग एजजस करें चैनल को ट्यून करने के लिए टीवी को ऑप्शन सलेक्ट करें सेटअप ऑप्शन के जरिए अपनी जरूरत के मताबग सेटिंग को एजजस करें सेटिंग को ऑप्शन को सलेक्ट करके LED TV सेटिंग को एजजस करें', 'translated_text': ' स्मार्ट एलेडी टीवी How to use smart LED TV menu function रिमोर्ट कंट्रोल में मौझूद menu के बटन को प्रेस करें पिच्चर या साउंड सेटिंग के ओप्शन को एजजस करने के लिए more के ओप्शन को स्लेक्ट करें रिमोर्ट कंट्रोल पर दिये गए up and down एरोस के जरिए पिच्चर सेटिंग को स्लेक्ट करें और OK का बटन दबा करें पिच्चर सेटिंग में मौझूद brightness, contrast, saturation, sharpness, gamma को अपनी जरूरत के मताबग एजजस करें साउंड ओप्शन को स्लेक्ट करें और साउं Protect को अपनी जरूरत के मताबग एजजस करें चैनल को ट्यून करने के लिए टीवी को ऑप्शन सलेक्ट करें सेटअप ऑप्शन के जरिए अपनी जरूरत के मताबग सेटिंग को एजजस करें सेटिंग को ऑप्शन को सलेक्ट करके LED TV सेटिंग को एजजस करें', 'chunks': ['स्मार्ट एलेडी टीवी How to use smart LED TV menu function रिमोर्ट कंट्रोल में मौझूद menu के बटन को प्रेस करें पिच्चर या साउंड सेटिंग के ओप्शन को एजजस करने के लिए more के ओप्शन को स्लेक्ट करें रिमोर्ट कंट्रोल पर दिये गए up and down एरोस के जरिए पिच्चर सेटिंग को स्लेक्ट करें और OK का बटन दबा करें पिच्चर सेटिंग में मौझूद brightness, contrast, saturation, sharpness, gamma को अपनी जरूरत के मताबग एजजस करें साउंड ओप्शन को स्लेक्ट करें और साउं Protect को अपनी जरूरत के मताबग एजजस करें चैनल को ट्यून करने के लिए टीवी को ऑप्शन', 'सलेक्ट करें सेटअप ऑप्शन के जरिए अपनी जरूरत के मताबग सेटिंग को एजजस करें सेटिंग को ऑप्शन को सलेक्ट करके LED TV सेटिंग को एजजस करें'], 'metadata': [{'chunk': 'स्मार्ट एलेडी टीवी How to use smart LED TV menu function रिमोर्ट कंट्रोल में मौझूद menu के बटन को प्रेस करें पिच्चर या साउंड सेटिंग के ओप्शन को एजजस करने के लिए more के ओप्शन को स्लेक्ट करें रिमोर्ट कंट्रोल पर दिये गए up and down एरोस के जरिए पिच्चर सेटिंग को स्लेक्ट करें और OK का बटन दबा करें पिच्चर सेटिंग में मौझूद brightness, contrast, saturation, sharpness, gamma को अपनी जरूरत के मताबग एजजस करें साउंड ओप्शन को स्लेक्ट करें और साउं Protect को अपनी जरूरत के मताबग एजजस करें चैनल को ट्यून करने के लिए टीवी को ऑप्शन', 'audio_file': 'Dawlance _ How to use SMART LED TV Menu Function.mp3', 'start_time': 0, 'end_time': 6}, {'chunk': 'सलेक्ट करें सेटअप ऑप्शन के जरिए अपनी जरूरत के मताबग सेटिंग को एजजस करें सेटिंग को ऑप्शन को सलेक्ट करके LED TV सेटिंग को एजजस करें', 'audio_file': 'Dawlance _ How to use SMART LED TV Menu Function.mp3', 'start_time': 6, 'end_time': 12}]}, {'audio_file': 'Dawlance _ Setup Installation of Tv.mp3', 'transcription': ' इसमार्ट एलेडी टीवी फर्स्ट टाइम सेट अप इंस्टॉलेशन डॉलिन्स इसमार्ट एलेडी टीवी को स्टार्ट करने के लिए सबसे पहले वायर को प्लग इन करें एलेडी आटोमेटिकली स्टैंबाई मोड पर सैट हो जाएगा रिमोर्ट कंट्रोल में नए बैटरीज लगाएं। एलेडी टीवी को ऑन करने के लिए रिमोर्ट पर मौजूद पावर बटन को प्रेस करें। एलेडी टीवी डिस्प्लेय को ब्लूटूथ से कनेक्ट करने के लिए background पर दिएगाएं Google Assistant बटन को दबाइए진। फिर Home बटन और Left बटन को एक साथ प्रेस करके, माइक या फिर Google Assistant बटन को प्रेस करें। इस थरां आपका एलेडी टीवी ब्लूटूथ से क्पेयर हो जाएगा। स्क्रीन पर मौजूद language options में English पर जाएगे। और OK बटन को प्रेस करके option को स्लेक्ट करें। एलेडी को Android फोन से कनेक्ट करने के लिए स्क्रीन में मौजूद continue बटन को प्रेस करें। या फिर Android फोन से न कनेक्ट करने के सुरक्त में स्किप दबाइए। एलेडी टीवी को वाई-फाई से कनेक्ट करने के लिए अपने वाई-फाई नीट को स्लेक्ट करें। पासवर्ड डालें और OK के बटन को प्रेस करें। अपने गूगल अकाउंट से साइनइन करने के लिए एमेल ऑफ पासवर्ड एंटर करके OK का बटन दबाइये। आपका एलेडी आपके Google अकाउंट से कनेक्ट होhoo गूगल अकाउंट से कनेक्ट न करने की सूरक्त में स्किप दबाइये। गूगल अकाउंट से कनेक्ट ना करने की सूरत में स्किप दबाईए गूगल टर्म्स और सर्वेज को एकसेप्ट करें स्मार्ट टीवी पावर्ड बाई एंड्रोइड गेट एप्स फ्रॉम गूगल प्ले कास्च और एलेडी टीवी के अप्शंस को एक्सेप्ट करने के लिए राइट का बटन प्रेस Interview एंड्रोइड लाइसन्स एक्रिमेंट को बॉक्स पर चेक लगा कर सेलेक्ट करें औentric डिशिर्म पर प्रशिक्षित से गांव परीवरून रिफिकेशन राजित राजित प्रोग्राम टाइप में All को सेलेक्ट करें चैनल स्कैन या स्कैन मोट फुल में से अपनी जुरूरत के मताबबे किसी एक अप्शन को सेलेक्ट करें LED स्कैनिंग स्टार्ट हो जाएगी LED स्कैनिंग ख़त्म होने के बाद LED डिस्प्ले में Home Screen पेज खुल जाएगा आपका स्मार्ट LED डिवी इंस्टॉल हो गया था', 'translated_text': ' इसमार्ट एलेडी टीवी फर्स्ट टाइम सेट अप इंस्टॉलेशन डॉलिन्स इसमार्ट एलेडी टीवी को स्टार्ट करने के लिए सबसे पहले वायर को प्लग इन करें एलेडी आटोमेटिकली स्टैंबाई मोड पर सैट हो जाएगा रिमोर्ट कंट्रोल में नए बैटरीज लगाएं। एलेडी टीवी को ऑन करने के लिए रिमोर्ट पर मौजूद पावर बटन को प्रेस करें। एलेडी टीवी डिस्प्लेय को ब्लूटूथ से कनेक्ट करने के लिए background पर दिएगाएं Google Assistant बटन को दबाइए진। फिर Home बटन और Left बटन को एक साथ प्रेस करके, माइक या फिर Google Assistant बटन को प्रेस करें। इस थरां आपका एलेडी टीवी ब्लूटूथ से क्पेयर हो जाएगा। स्क्रीन पर मौजूद language options में English पर जाएगे। और OK बटन को प्रेस करके option को स्लेक्ट करें। एलेडी को Android फोन से कनेक्ट करने के लिए स्क्रीन में मौजूद continue बटन को प्रेस करें। या फिर Android फोन से न कनेक्ट करने के सुरक्त में स्किप दबाइए। एलेडी टीवी को वाई-फाई से कनेक्ट करने के लिए अपने वाई-फाई नीट को स्लेक्ट करें। पासवर्ड डालें और OK के बटन को प्रेस करें। अपने गूगल अकाउंट से साइनइन करने के लिए एमेल ऑफ पासवर्ड एंटर करके OK का बटन दबाइये। आपका एलेडी आपके Google अकाउंट से कनेक्ट होhoo गूगल अकाउंट से कनेक्ट न करने की सूरक्त में स्किप दबाइये। गूगल अकाउंट से कनेक्ट ना करने की सूरत में स्किप दबाईए गूगल टर्म्स और सर्वेज को एकसेप्ट करें स्मार्ट टीवी पावर्ड बाई एंड्रोइड गेट एप्स फ्रॉम गूगल प्ले कास्च और एलेडी टीवी के अप्शंस को एक्सेप्ट करने के लिए राइट का बटन प्रेस Interview एंड्रोइड लाइसन्स एक्रिमेंट को बॉक्स पर चेक लगा कर सेलेक्ट करें औentric डिशिर्म पर प्रशिक्षित से गांव परीवरून रिफिकेशन राजित राजित प्रोग्राम टाइप में All को सेलेक्ट करें चैनल स्कैन या स्कैन मोट फुल में से अपनी जुरूरत के मताबबे किसी एक अप्शन को सेलेक्ट करें LED स्कैनिंग स्टार्ट हो जाएगी LED स्कैनिंग ख़त्म होने के बाद LED डिस्प्ले में Home Screen पेज खुल जाएगा आपका स्मार्ट LED डिवी इंस्टॉल हो गया था', 'chunks': ['इसमार्ट एलेडी टीवी फर्स्ट टाइम सेट अप इंस्टॉलेशन डॉलिन्स इसमार्ट एलेडी टीवी को स्टार्ट करने के लिए सबसे पहले वायर को प्लग इन करें एलेडी आटोमेटिकली स्टैंबाई मोड पर सैट हो जाएगा रिमोर्ट कंट्रोल में नए बैटरीज लगाएं। एलेडी टीवी को ऑन करने के लिए रिमोर्ट पर मौजूद पावर बटन को प्रेस करें। एलेडी टीवी डिस्प्लेय को ब्लूटूथ से कनेक्ट करने के लिए background पर दिएगाएं Google Assistant बटन को दबाइए진। फिर Home बटन और Left बटन को एक साथ प्रेस करके, माइक या फिर Google Assistant बटन को प्रेस करें। इस थरां आपका एलेडी टीवी ब्लूटूथ से क्पेयर हो', 'जाएगा। स्क्रीन पर मौजूद language options में English पर जाएगे। और OK बटन को प्रेस करके option को स्लेक्ट करें। एलेडी को Android फोन से कनेक्ट करने के लिए स्क्रीन में मौजूद continue बटन को प्रेस करें। या फिर Android फोन से न कनेक्ट करने के सुरक्त में स्किप दबाइए। एलेडी टीवी को वाई-फाई से कनेक्ट करने के लिए अपने वाई-फाई नीट को स्लेक्ट करें। पासवर्ड डालें और OK के बटन को प्रेस करें। अपने गूगल अकाउंट से साइनइन करने के लिए एमेल ऑफ पासवर्ड एंटर करके OK का बटन दबाइये। आपका एलेडी आपके Google अकाउंट से कनेक्ट होhoo गूगल', 'अकाउंट से कनेक्ट न करने की सूरक्त में स्किप दबाइये। गूगल अकाउंट से कनेक्ट ना करने की सूरत में स्किप दबाईए गूगल टर्म्स और सर्वेज को एकसेप्ट करें स्मार्ट टीवी पावर्ड बाई एंड्रोइड गेट एप्स फ्रॉम गूगल प्ले कास्च और एलेडी टीवी के अप्शंस को एक्सेप्ट करने के लिए राइट का बटन प्रेस Interview एंड्रोइड लाइसन्स एक्रिमेंट को बॉक्स पर चेक लगा कर सेलेक्ट करें औentric डिशिर्म पर प्रशिक्षित से गांव परीवरून रिफिकेशन राजित राजित प्रोग्राम टाइप में All को सेलेक्ट करें चैनल स्कैन या स्कैन मोट फुल में से अपनी जुरूरत के मताबबे किसी एक अप्शन को सेलेक्ट करें', 'LED स्कैनिंग स्टार्ट हो जाएगी LED स्कैनिंग ख़त्म होने के बाद LED डिस्प्ले में Home Screen पेज खुल जाएगा आपका स्मार्ट LED डिवी इंस्टॉल हो गया था'], 'metadata': [{'chunk': 'इसमार्ट एलेडी टीवी फर्स्ट टाइम सेट अप इंस्टॉलेशन डॉलिन्स इसमार्ट एलेडी टीवी को स्टार्ट करने के लिए सबसे पहले वायर को प्लग इन करें एलेडी आटोमेटिकली स्टैंबाई मोड पर सैट हो जाएगा रिमोर्ट कंट्रोल में नए बैटरीज लगाएं। एलेडी टीवी को ऑन करने के लिए रिमोर्ट पर मौजूद पावर बटन को प्रेस करें। एलेडी टीवी डिस्प्लेय को ब्लूटूथ से कनेक्ट करने के लिए background पर दिएगाएं Google Assistant बटन को दबाइए진। फिर Home बटन और Left बटन को एक साथ प्रेस करके, माइक या फिर Google Assistant बटन को प्रेस करें। इस थरां आपका एलेडी टीवी ब्लूटूथ से क्पेयर हो', 'audio_file': 'Dawlance _ Setup Installation of Tv.mp3', 'start_time': 0, 'end_time': 8}, {'chunk': 'जाएगा। स्क्रीन पर मौजूद language options में English पर जाएगे। और OK बटन को प्रेस करके option को स्लेक्ट करें। एलेडी को Android फोन से कनेक्ट करने के लिए स्क्रीन में मौजूद continue बटन को प्रेस करें। या फिर Android फोन से न कनेक्ट करने के सुरक्त में स्किप दबाइए। एलेडी टीवी को वाई-फाई से कनेक्ट करने के लिए अपने वाई-फाई नीट को स्लेक्ट करें। पासवर्ड डालें और OK के बटन को प्रेस करें। अपने गूगल अकाउंट से साइनइन करने के लिए एमेल ऑफ पासवर्ड एंटर करके OK का बटन दबाइये। आपका एलेडी आपके Google अकाउंट से कनेक्ट होhoo गूगल', 'audio_file': 'Dawlance _ Setup Installation of Tv.mp3', 'start_time': 8, 'end_time': 16}, {'chunk': 'अकाउंट से कनेक्ट न करने की सूरक्त में स्किप दबाइये। गूगल अकाउंट से कनेक्ट ना करने की सूरत में स्किप दबाईए गूगल टर्म्स और सर्वेज को एकसेप्ट करें स्मार्ट टीवी पावर्ड बाई एंड्रोइड गेट एप्स फ्रॉम गूगल प्ले कास्च और एलेडी टीवी के अप्शंस को एक्सेप्ट करने के लिए राइट का बटन प्रेस Interview एंड्रोइड लाइसन्स एक्रिमेंट को बॉक्स पर चेक लगा कर सेलेक्ट करें औentric डिशिर्म पर प्रशिक्षित से गांव परीवरून रिफिकेशन राजित राजित प्रोग्राम टाइप में All को सेलेक्ट करें चैनल स्कैन या स्कैन मोट फुल में से अपनी जुरूरत के मताबबे किसी एक अप्शन को सेलेक्ट करें', 'audio_file': 'Dawlance _ Setup Installation of Tv.mp3', 'start_time': 16, 'end_time': 24}, {'chunk': 'LED स्कैनिंग स्टार्ट हो जाएगी LED स्कैनिंग ख़त्म होने के बाद LED डिस्प्ले में Home Screen पेज खुल जाएगा आपका स्मार्ट LED डिवी इंस्टॉल हो गया था', 'audio_file': 'Dawlance _ Setup Installation of Tv.mp3', 'start_time': 24, 'end_time': 32}]}, {'audio_file': 'Dawlance _ How to Reset Smart Led Tv.mp3', 'transcription': ' समार्ट एलेडी टीवी सबसे पहले रिमोर्ट कंट्रोल पर दिये गए होम बटन पर क्लिक करें स्क्रीन में मौझूस सेटिंग्स आइकन को रिमोर्ट कंट्रोल के अप, डाउन और राइट, लेफ्ट बटन के जरीए सेलेक्ट करें और ओके का बटन प्रेस करें डिवाइस प्ektर पर क्लिक करें रिसेट के ऑप्शन क Fighter रिसाइट पर क्लिक करने के बाद इस एवरीथिंग ऑप्शन को स्लेक्ट करें समझते है according to Priyad', 'translated_text': ' समार्ट एलेडी टीवी सबसे पहले रिमोर्ट कंट्रोल पर दिये गए होम बटन पर क्लिक करें स्क्रीन में मौझूस सेटिंग्स आइकन को रिमोर्ट कंट्रोल के अप, डाउन और राइट, लेफ्ट बटन के जरीए सेलेक्ट करें और ओके का बटन प्रेस करें डिवाइस प्ektर पर क्लिक करें रिसेट के ऑप्शन क Fighter रिसाइट पर क्लिक करने के बाद इस एवरीथिंग ऑप्शन को स्लेक्ट करें समझते है according to Priyad', 'chunks': ['समार्ट एलेडी टीवी सबसे पहले रिमोर्ट कंट्रोल पर दिये गए होम बटन पर क्लिक करें स्क्रीन में मौझूस सेटिंग्स आइकन को रिमोर्ट कंट्रोल के अप, डाउन और राइट, लेफ्ट बटन के जरीए सेलेक्ट करें और ओके का बटन प्रेस करें डिवाइस प्ektर पर क्लिक करें रिसेट के ऑप्शन क Fighter रिसाइट पर क्लिक करने के बाद इस एवरीथिंग ऑप्शन को स्लेक्ट करें समझते है according to Priyad'], 'metadata': [{'chunk': 'समार्ट एलेडी टीवी सबसे पहले रिमोर्ट कंट्रोल पर दिये गए होम बटन पर क्लिक करें स्क्रीन में मौझूस सेटिंग्स आइकन को रिमोर्ट कंट्रोल के अप, डाउन और राइट, लेफ्ट बटन के जरीए सेलेक्ट करें और ओके का बटन प्रेस करें डिवाइस प्ektर पर क्लिक करें रिसेट के ऑप्शन क Fighter रिसाइट पर क्लिक करने के बाद इस एवरीथिंग ऑप्शन को स्लेक्ट करें समझते है according to Priyad', 'audio_file': 'Dawlance _ How to Reset Smart Led Tv.mp3', 'start_time': 0, 'end_time': 6}]}, {'audio_file': 'Dawlance _ How to Operate LED TV without Remote Control.mp3', 'transcription': ' स्मार्ट एलेडी टीवी How to operate LED TV without remote control LED TV के पीछे मौझूद कंट्रोल बटन के जरिये आप अपने LED TV को कंट्रोल कर सकते हैं अगर TV स्टेंड बाय मोट पर है तो TV को आउन करने के लिए कंट्रोल बटन को दबाईए LED TV स्विच्च आउन होने की सूरत में कंट्रोल बटन को हलका प्रेस करके सॉर्स लिस को ओपन करें सॉर्स लिस में अपनी जरूरत के मताबग ओप्शन को सेलेक करने के लिए कंट्रोल बटन कोLeft या Right पुष्च करके कंट्रोल बटन को बीच में हलका प्रेस करें Source list कोaccix Roberts के लिए, Control बटन को देर तक टैक करें TV Volume को बढ़ाने या कम करना चाहिए Control बटन को Right या Left की तरफ पुष्ड करें चैनल को चेंज करने के लिए, ऊंपर यदि नीचे की तरफ Control बटन को पुष्ठ करें', 'translated_text': ' स्मार्ट एलेडी टीवी How to operate LED TV without remote control LED TV के पीछे मौझूद कंट्रोल बटन के जरिये आप अपने LED TV को कंट्रोल कर सकते हैं अगर TV स्टेंड बाय मोट पर है तो TV को आउन करने के लिए कंट्रोल बटन को दबाईए LED TV स्विच्च आउन होने की सूरत में कंट्रोल बटन को हलका प्रेस करके सॉर्स लिस को ओपन करें सॉर्स लिस में अपनी जरूरत के मताबग ओप्शन को सेलेक करने के लिए कंट्रोल बटन कोLeft या Right पुष्च करके कंट्रोल बटन को बीच में हलका प्रेस करें Source list कोaccix Roberts के लिए, Control बटन को देर तक टैक करें TV Volume को बढ़ाने या कम करना चाहिए Control बटन को Right या Left की तरफ पुष्ड करें चैनल को चेंज करने के लिए, ऊंपर यदि नीचे की तरफ Control बटन को पुष्ठ करें', 'chunks': ['स्मार्ट एलेडी टीवी How to operate LED TV without remote control LED TV के पीछे मौझूद कंट्रोल बटन के जरिये आप अपने LED TV को कंट्रोल कर सकते हैं अगर TV स्टेंड बाय मोट पर है तो TV को आउन करने के लिए कंट्रोल बटन को दबाईए LED TV स्विच्च आउन होने की सूरत में कंट्रोल बटन को हलका प्रेस करके सॉर्स लिस को ओपन करें सॉर्स लिस में अपनी जरूरत के मताबग ओप्शन को सेलेक करने के लिए कंट्रोल बटन कोLeft या Right पुष्च करके कंट्रोल बटन को बीच में हलका प्रेस करें Source list कोaccix Roberts के लिए,', 'Control बटन को देर तक टैक करें TV Volume को बढ़ाने या कम करना चाहिए Control बटन को Right या Left की तरफ पुष्ड करें चैनल को चेंज करने के लिए, ऊंपर यदि नीचे की तरफ Control बटन को पुष्ठ करें'], 'metadata': [{'chunk': 'स्मार्ट एलेडी टीवी How to operate LED TV without remote control LED TV के पीछे मौझूद कंट्रोल बटन के जरिये आप अपने LED TV को कंट्रोल कर सकते हैं अगर TV स्टेंड बाय मोट पर है तो TV को आउन करने के लिए कंट्रोल बटन को दबाईए LED TV स्विच्च आउन होने की सूरत में कंट्रोल बटन को हलका प्रेस करके सॉर्स लिस को ओपन करें सॉर्स लिस में अपनी जरूरत के मताबग ओप्शन को सेलेक करने के लिए कंट्रोल बटन कोLeft या Right पुष्च करके कंट्रोल बटन को बीच में हलका प्रेस करें Source list कोaccix Roberts के लिए,', 'audio_file': 'Dawlance _ How to Operate LED TV without Remote Control.mp3', 'start_time': 0, 'end_time': 5}, {'chunk': 'Control बटन को देर तक टैक करें TV Volume को बढ़ाने या कम करना चाहिए Control बटन को Right या Left की तरफ पुष्ड करें चैनल को चेंज करने के लिए, ऊंपर यदि नीचे की तरफ Control बटन को पुष्ठ करें', 'audio_file': 'Dawlance _ How to Operate LED TV without Remote Control.mp3', 'start_time': 5, 'end_time': 10}]}, {'audio_file': 'Dawlance _ Set Pictures Cutting From Side Corners on Tv.mp3', 'transcription': ' स्मार्ट एलेडी टीवी पिच्चर स्क्रीन कटिंग फ्रॉम साइट कॉर्नर्स अगर आपकी स्क्रीन कॉर्नर्स से कट रही हैं, तो रिमोर्ट कंट्रोल में ओके के बटन को प्रेस करें कुइक बटन मेन्यू, डिस्प्ले स्क्रीन में आ जाए stab स्क्रीन मोड ऑप्शन को सिलेक्ट करें aspect ratio को auto से हटा कर 16-9 ऑप्शन पे सेट करें अब आपकी स्क्रीन फुल स्क्रीन आ रही होगी', 'translated_text': ' स्मार्ट एलेडी टीवी पिच्चर स्क्रीन कटिंग फ्रॉम साइट कॉर्नर्स अगर आपकी स्क्रीन कॉर्नर्स से कट रही हैं, तो रिमोर्ट कंट्रोल में ओके के बटन को प्रेस करें कुइक बटन मेन्यू, डिस्प्ले स्क्रीन में आ जाए stab स्क्रीन मोड ऑप्शन को सिलेक्ट करें aspect ratio को auto से हटा कर 16-9 ऑप्शन पे सेट करें अब आपकी स्क्रीन फुल स्क्रीन आ रही होगी', 'chunks': ['स्मार्ट एलेडी टीवी पिच्चर स्क्रीन कटिंग फ्रॉम साइट कॉर्नर्स अगर आपकी स्क्रीन कॉर्नर्स से कट रही हैं, तो रिमोर्ट कंट्रोल में ओके के बटन को प्रेस करें कुइक बटन मेन्यू, डिस्प्ले स्क्रीन में आ जाए stab स्क्रीन मोड ऑप्शन को सिलेक्ट करें aspect ratio को auto से हटा कर 16-9 ऑप्शन पे सेट करें अब आपकी स्क्रीन फुल स्क्रीन आ रही होगी'], 'metadata': [{'chunk': 'स्मार्ट एलेडी टीवी पिच्चर स्क्रीन कटिंग फ्रॉम साइट कॉर्नर्स अगर आपकी स्क्रीन कॉर्नर्स से कट रही हैं, तो रिमोर्ट कंट्रोल में ओके के बटन को प्रेस करें कुइक बटन मेन्यू, डिस्प्ले स्क्रीन में आ जाए stab स्क्रीन मोड ऑप्शन को सिलेक्ट करें aspect ratio को auto से हटा कर 16-9 ऑप्शन पे सेट करें अब आपकी स्क्रीन फुल स्क्रीन आ रही होगी', 'audio_file': 'Dawlance _ Set Pictures Cutting From Side Corners on Tv.mp3', 'start_time': 0, 'end_time': 7}]}]\n"
          ]
        }
      ]
    }
  ]
}